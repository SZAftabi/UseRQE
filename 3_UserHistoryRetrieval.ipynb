{
  "cells": [
    {
      "cell_type": "markdown",
      "metadata": {
        "id": "view-in-github",
        "colab_type": "text"
      },
      "source": [
        "<a href=\"https://colab.research.google.com/github/SZAftabi/UseRQE/blob/main/3_UserHistoryRetrieval.ipynb\" target=\"_parent\"><img src=\"https://colab.research.google.com/assets/colab-badge.svg\" alt=\"Open In Colab\"/></a>"
      ]
    },
    {
      "cell_type": "markdown",
      "metadata": {
        "id": "bfhcCzczV-Gk"
      },
      "source": [
        "<center> <font size='6'> 💟 <b> UseRQE </b> 💟 </font> <br> </center>\n",
        "<center>Recognizing Question Entailment with User Background-knowledge Modeling <br> </center> <center> <font size='4' color='red'> <b> Step (3) </b> Users' history retrieval </font> </center>\n"
      ]
    },
    {
      "cell_type": "markdown",
      "metadata": {
        "id": "cEdGg56FWsWV"
      },
      "source": [
        "# 😎 **Mount the drive**"
      ]
    },
    {
      "cell_type": "code",
      "execution_count": null,
      "metadata": {
        "id": "KphPULSmdv_F"
      },
      "outputs": [],
      "source": [
        "from google.colab import drive\n",
        "drive.mount('/content/drive', force_remount=True)"
      ]
    },
    {
      "cell_type": "code",
      "execution_count": null,
      "metadata": {
        "id": "GiXiD59XAIjV"
      },
      "outputs": [],
      "source": [
        "Drive_path = \"/content/drive/MyDrive/\""
      ]
    },
    {
      "cell_type": "markdown",
      "metadata": {
        "id": "sl4_G7CblsQj"
      },
      "source": [
        "# 😎 **1. Libraries**"
      ]
    },
    {
      "cell_type": "code",
      "execution_count": null,
      "metadata": {
        "id": "iiX1X7U3USQu"
      },
      "outputs": [],
      "source": [
        "import os\n",
        "import re\n",
        "import torch\n",
        "import warnings\n",
        "import nltk\n",
        "import json\n",
        "import time\n",
        "import requests\n",
        "nltk.download('punkt')\n",
        "\n",
        "import numpy as np\n",
        "import pandas as pd\n",
        "import bitsandbytes as bnb\n",
        "import pytorch_lightning as pl\n",
        "import matplotlib.pyplot as plt"
      ]
    },
    {
      "cell_type": "markdown",
      "metadata": {
        "id": "Kvej4Qja0DLv"
      },
      "source": [
        "\n",
        "# 😎 **2. Find first user's history**\n"
      ]
    },
    {
      "cell_type": "code",
      "execution_count": null,
      "metadata": {
        "id": "Ea0uhG_5AVeA"
      },
      "outputs": [],
      "source": [
        "data_path_LLama = f\"{Drive_path}RQE_Data.pkl\"\n",
        "MyData_LLama = pd.read_pickle(data_path_LLama)"
      ]
    },
    {
      "cell_type": "code",
      "source": [
        "MyData_LLama.loc[(MyData_LLama['body_Q2']=='') & (MyData_LLama['userid_Q2']=='65001'), 'body_Q2']='So when I launch Minecraft, before it finishes loading, it crashes. I do not understand what is going on. Could someone help me? Here is my crash report:'\n",
        "MyData_LLama.loc[(MyData_LLama['body_Q2']=='') & (MyData_LLama['userid_Q2']=='36896'), 'body_Q2']='How do I type the infinity symbol in MacTex'\n",
        "MyData_LLama.loc[(MyData_LLama['body_Q2']=='') & (MyData_LLama['userid_Q2']=='3031'), 'body_Q2']='Run time error for GP objects'\n",
        "MyData_LLama.loc[(MyData_LLama['body_Q1']=='') & (MyData_LLama['userid_Q2']=='65001'), 'body_Q1']='Misplaced allignment tab character line 53'\n",
        "MyData_LLama.loc[(MyData_LLama['body_Q1']=='') & (MyData_LLama['userid_Q2']=='16188'), 'body_Q1']='How to Export this animation as a gif file for powerpoint presentation'\n",
        "MyData_LLama.loc[(MyData_LLama['body_Q1']=='') & (MyData_LLama['userid_Q2']=='24829'), 'body_Q1']='why does rotation style work on actual coordinates and not variables in tikz 3d plot'\n",
        "\n",
        "MyData_LLama.loc[(MyData_LLama['body_Q2']=='') & (MyData_LLama['userid_Q2']=='50615'), 'body_Q2']='How set a table in margin'\n",
        "MyData_LLama.loc[(MyData_LLama['body_Q2']=='') & (MyData_LLama['userid_Q2']=='23835'), 'body_Q2']='Latex equation positioning problem'\n",
        "MyData_LLama.loc[(MyData_LLama['body_Q2']=='') & (MyData_LLama['userid_Q2']=='14524'), 'body_Q2']='Chapter comment with regulation'\n",
        "MyData_LLama.loc[(MyData_LLama['body_Q2']=='') & (MyData_LLama['userid_Q2']=='50823'), 'body_Q2']='minipage goes beyond right margin'"
      ],
      "metadata": {
        "id": "MzZFTfRSTkMC"
      },
      "execution_count": null,
      "outputs": []
    },
    {
      "cell_type": "code",
      "execution_count": null,
      "metadata": {
        "id": "4tuLtQdJPjvd"
      },
      "outputs": [],
      "source": [
        "user_history_df = pd.DataFrame(columns=['userid', 'historyCount', 'historyIDs', 'history'])\n",
        "for index, row in MyData_LLama.iterrows():\n",
        "    user_id = row['userid_Q1']\n",
        "    forum_name = row['forum_x']\n",
        "\n",
        "    AA = (MyData_LLama[\n",
        "        (MyData_LLama['userid_Q1'] == user_id) & (MyData_LLama['forum_x'] == forum_name)\n",
        "        ][['id_Q1', 'body_Q1']])\n",
        "    AA.rename(\n",
        "        columns={'id_Q1': 'QuestionID', 'body_Q1': 'QuestionBody'},\n",
        "        inplace=True\n",
        "        )\n",
        "    BB = (MyData_LLama[\n",
        "        (MyData_LLama['userid_Q2'] == user_id) & (MyData_LLama['forum_y'] == forum_name)\n",
        "        ][['id_Q2', 'body_Q2']])\n",
        "    BB.rename(\n",
        "        columns={'id_Q2': 'QuestionID', 'body_Q2': 'QuestionBody'},\n",
        "        inplace=True\n",
        "        )\n",
        "    user_history = pd.concat([AA, BB])\n",
        "    user_history = user_history.drop_duplicates(subset=['QuestionID'])\n",
        "\n",
        "    user_history_str = ', '.join(user_history['QuestionID'].astype(str))\n",
        "    user_history_body_str = ', '.join(user_history['QuestionBody'].astype(str))\n",
        "\n",
        "    user_history_df = pd.concat(\n",
        "        [user_history_df, pd.DataFrame({'userid': [user_id],\n",
        "                                        'forum': [forum_name],\n",
        "                                        'historyCount': len(user_history),\n",
        "                                        'historyIDs': [user_history_str],\n",
        "                                        'history': [user_history_body_str]})\n",
        "        ], ignore_index=True)\n",
        "\n",
        "user_history_df_filepath = f\"{Drive_path}UseRQE/TG/user_history_df.pkl\"\n",
        "user_history_df.to_pickle(user_history_df_filepath)\n",
        "display(user_history_df)"
      ]
    },
    {
      "cell_type": "markdown",
      "source": [
        "\n",
        "# 😎 **3. Find second user's history**\n",
        "appending them to user_history_df\n"
      ],
      "metadata": {
        "id": "YjEMdEbLxIZR"
      }
    },
    {
      "cell_type": "code",
      "execution_count": null,
      "metadata": {
        "id": "381xq0_O5A9u"
      },
      "outputs": [],
      "source": [
        "for index, row in MyData_LLama.iterrows():\n",
        "    user_id = row['userid_Q2']\n",
        "    forum_name = row['forum_y']\n",
        "\n",
        "    AA = (MyData_LLama[\n",
        "        (MyData_LLama['userid_Q1'] == user_id) & (MyData_LLama['forum_x'] == forum_name)\n",
        "        ][['id_Q1', 'body_Q1']])\n",
        "    AA.rename(\n",
        "        columns={'id_Q1': 'QuestionID', 'body_Q1': 'QuestionBody'},\n",
        "        inplace=True\n",
        "        )\n",
        "    BB = (MyData_LLama[\n",
        "        (MyData_LLama['userid_Q2'] == user_id) & (MyData_LLama['forum_y'] == forum_name)\n",
        "        ][['id_Q2', 'body_Q2']])\n",
        "    BB.rename(\n",
        "        columns={'id_Q2': 'QuestionID', 'body_Q2': 'QuestionBody'},\n",
        "        inplace=True\n",
        "        )\n",
        "    user_history = pd.concat([AA, BB])\n",
        "    user_history = user_history.drop_duplicates(subset=['QuestionID'])\n",
        "\n",
        "    user_history_str = ', '.join(user_history['QuestionID'].astype(str))\n",
        "    user_history_body_str = ', '.join(user_history['QuestionBody'].astype(str))\n",
        "\n",
        "    user_history_df = pd.concat(\n",
        "        [user_history_df, pd.DataFrame({'userid': [user_id],\n",
        "                                        'forum': [forum_name],\n",
        "                                        'historyCount': len(user_history),\n",
        "                                        'historyIDs': [user_history_str],\n",
        "                                        'history': [user_history_body_str]})\n",
        "        ], ignore_index=True)\n",
        "\n",
        "user_history_df_filepath = f\"{Drive_path}ReQuEST/user_history_Both_df2.pkl\"\n",
        "user_history_df.to_pickle(user_history_df_filepath)\n",
        "display(user_history_df)"
      ]
    }
  ],
  "metadata": {
    "accelerator": "GPU",
    "colab": {
      "gpuType": "T4",
      "machine_shape": "hm",
      "provenance": [],
      "toc_visible": true,
      "include_colab_link": true
    },
    "kernelspec": {
      "display_name": "Python 3",
      "name": "python3"
    },
    "language_info": {
      "name": "python"
    }
  },
  "nbformat": 4,
  "nbformat_minor": 0
}